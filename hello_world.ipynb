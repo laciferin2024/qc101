{
 "cells": [
  {
   "cell_type": "markdown",
   "source": [
    "# Hello World in 2 qubit bell state"
   ],
   "metadata": {
    "collapsed": false
   },
   "id": "6f5c5bd33aa57001"
  },
  {
   "cell_type": "markdown",
   "source": [
    "Step 1: Map the problem to circuits and operators"
   ],
   "metadata": {
    "collapsed": false
   },
   "id": "50d6e3e6cc344a7e"
  },
  {
   "cell_type": "code",
   "execution_count": 2,
   "id": "initial_id",
   "metadata": {
    "collapsed": true,
    "ExecuteTime": {
     "end_time": "2024-09-21T09:34:43.860610Z",
     "start_time": "2024-09-21T09:34:43.849538Z"
    }
   },
   "outputs": [],
   "source": [
    "from qiskit import QuantumCircuit\n",
    "\n",
    "\n",
    "qc = QuantumCircuit(2)"
   ]
  },
  {
   "cell_type": "code",
   "execution_count": 4,
   "outputs": [
    {
     "ename": "MissingOptionalLibraryError",
     "evalue": "\"The 'matplotlib' library is required to use 'MatplotlibDrawer'. You can install it with 'pip install matplotlib'.\"",
     "output_type": "error",
     "traceback": [
      "\u001B[0;31m---------------------------------------------------------------------------\u001B[0m",
      "\u001B[0;31mMissingOptionalLibraryError\u001B[0m               Traceback (most recent call last)",
      "Cell \u001B[0;32mIn[4], line 3\u001B[0m\n\u001B[1;32m      1\u001B[0m qc\u001B[38;5;241m.\u001B[39mh(\u001B[38;5;241m0\u001B[39m)\n\u001B[1;32m      2\u001B[0m qc\u001B[38;5;241m.\u001B[39mcx(\u001B[38;5;241m0\u001B[39m,\u001B[38;5;241m1\u001B[39m)\n\u001B[0;32m----> 3\u001B[0m qc\u001B[38;5;241m.\u001B[39mdraw(output\u001B[38;5;241m=\u001B[39m\u001B[38;5;124m\"\u001B[39m\u001B[38;5;124mmpl\u001B[39m\u001B[38;5;124m\"\u001B[39m)\n",
      "File \u001B[0;32m~/miniconda3/envs/quantum/lib/python3.12/site-packages/qiskit/circuit/quantumcircuit.py:3369\u001B[0m, in \u001B[0;36mQuantumCircuit.draw\u001B[0;34m(self, output, scale, filename, style, interactive, plot_barriers, reverse_bits, justify, vertical_compression, idle_wires, with_layout, fold, ax, initial_state, cregbundle, wire_order, expr_len)\u001B[0m\n\u001B[1;32m   3366\u001B[0m \u001B[38;5;66;03m# pylint: disable=cyclic-import\u001B[39;00m\n\u001B[1;32m   3367\u001B[0m \u001B[38;5;28;01mfrom\u001B[39;00m \u001B[38;5;21;01mqiskit\u001B[39;00m\u001B[38;5;21;01m.\u001B[39;00m\u001B[38;5;21;01mvisualization\u001B[39;00m \u001B[38;5;28;01mimport\u001B[39;00m circuit_drawer\n\u001B[0;32m-> 3369\u001B[0m \u001B[38;5;28;01mreturn\u001B[39;00m circuit_drawer(\n\u001B[1;32m   3370\u001B[0m     \u001B[38;5;28mself\u001B[39m,\n\u001B[1;32m   3371\u001B[0m     scale\u001B[38;5;241m=\u001B[39mscale,\n\u001B[1;32m   3372\u001B[0m     filename\u001B[38;5;241m=\u001B[39mfilename,\n\u001B[1;32m   3373\u001B[0m     style\u001B[38;5;241m=\u001B[39mstyle,\n\u001B[1;32m   3374\u001B[0m     output\u001B[38;5;241m=\u001B[39moutput,\n\u001B[1;32m   3375\u001B[0m     interactive\u001B[38;5;241m=\u001B[39minteractive,\n\u001B[1;32m   3376\u001B[0m     plot_barriers\u001B[38;5;241m=\u001B[39mplot_barriers,\n\u001B[1;32m   3377\u001B[0m     reverse_bits\u001B[38;5;241m=\u001B[39mreverse_bits,\n\u001B[1;32m   3378\u001B[0m     justify\u001B[38;5;241m=\u001B[39mjustify,\n\u001B[1;32m   3379\u001B[0m     vertical_compression\u001B[38;5;241m=\u001B[39mvertical_compression,\n\u001B[1;32m   3380\u001B[0m     idle_wires\u001B[38;5;241m=\u001B[39midle_wires,\n\u001B[1;32m   3381\u001B[0m     with_layout\u001B[38;5;241m=\u001B[39mwith_layout,\n\u001B[1;32m   3382\u001B[0m     fold\u001B[38;5;241m=\u001B[39mfold,\n\u001B[1;32m   3383\u001B[0m     ax\u001B[38;5;241m=\u001B[39max,\n\u001B[1;32m   3384\u001B[0m     initial_state\u001B[38;5;241m=\u001B[39minitial_state,\n\u001B[1;32m   3385\u001B[0m     cregbundle\u001B[38;5;241m=\u001B[39mcregbundle,\n\u001B[1;32m   3386\u001B[0m     wire_order\u001B[38;5;241m=\u001B[39mwire_order,\n\u001B[1;32m   3387\u001B[0m     expr_len\u001B[38;5;241m=\u001B[39mexpr_len,\n\u001B[1;32m   3388\u001B[0m )\n",
      "File \u001B[0;32m~/miniconda3/envs/quantum/lib/python3.12/site-packages/qiskit/visualization/circuit/circuit_visualization.py:330\u001B[0m, in \u001B[0;36mcircuit_drawer\u001B[0;34m(circuit, scale, filename, style, output, interactive, plot_barriers, reverse_bits, justify, vertical_compression, idle_wires, with_layout, fold, ax, initial_state, cregbundle, wire_order, expr_len)\u001B[0m\n\u001B[1;32m    315\u001B[0m     \u001B[38;5;28;01mreturn\u001B[39;00m _generate_latex_source(\n\u001B[1;32m    316\u001B[0m         circuit,\n\u001B[1;32m    317\u001B[0m         filename\u001B[38;5;241m=\u001B[39mfilename,\n\u001B[0;32m   (...)\u001B[0m\n\u001B[1;32m    327\u001B[0m         wire_order\u001B[38;5;241m=\u001B[39mcomplete_wire_order,\n\u001B[1;32m    328\u001B[0m     )\n\u001B[1;32m    329\u001B[0m \u001B[38;5;28;01melif\u001B[39;00m output \u001B[38;5;241m==\u001B[39m \u001B[38;5;124m\"\u001B[39m\u001B[38;5;124mmpl\u001B[39m\u001B[38;5;124m\"\u001B[39m:\n\u001B[0;32m--> 330\u001B[0m     image \u001B[38;5;241m=\u001B[39m _matplotlib_circuit_drawer(\n\u001B[1;32m    331\u001B[0m         circuit,\n\u001B[1;32m    332\u001B[0m         scale\u001B[38;5;241m=\u001B[39mscale,\n\u001B[1;32m    333\u001B[0m         filename\u001B[38;5;241m=\u001B[39mfilename,\n\u001B[1;32m    334\u001B[0m         style\u001B[38;5;241m=\u001B[39mstyle,\n\u001B[1;32m    335\u001B[0m         plot_barriers\u001B[38;5;241m=\u001B[39mplot_barriers,\n\u001B[1;32m    336\u001B[0m         reverse_bits\u001B[38;5;241m=\u001B[39mreverse_bits,\n\u001B[1;32m    337\u001B[0m         justify\u001B[38;5;241m=\u001B[39mjustify,\n\u001B[1;32m    338\u001B[0m         idle_wires\u001B[38;5;241m=\u001B[39midle_wires,\n\u001B[1;32m    339\u001B[0m         with_layout\u001B[38;5;241m=\u001B[39mwith_layout,\n\u001B[1;32m    340\u001B[0m         fold\u001B[38;5;241m=\u001B[39mfold,\n\u001B[1;32m    341\u001B[0m         ax\u001B[38;5;241m=\u001B[39max,\n\u001B[1;32m    342\u001B[0m         initial_state\u001B[38;5;241m=\u001B[39minitial_state,\n\u001B[1;32m    343\u001B[0m         cregbundle\u001B[38;5;241m=\u001B[39mcregbundle,\n\u001B[1;32m    344\u001B[0m         wire_order\u001B[38;5;241m=\u001B[39mcomplete_wire_order,\n\u001B[1;32m    345\u001B[0m         expr_len\u001B[38;5;241m=\u001B[39mexpr_len,\n\u001B[1;32m    346\u001B[0m     )\n\u001B[1;32m    347\u001B[0m \u001B[38;5;28;01melse\u001B[39;00m:\n\u001B[1;32m    348\u001B[0m     \u001B[38;5;28;01mraise\u001B[39;00m VisualizationError(\n\u001B[1;32m    349\u001B[0m         \u001B[38;5;124mf\u001B[39m\u001B[38;5;124m\"\u001B[39m\u001B[38;5;124mInvalid output type \u001B[39m\u001B[38;5;132;01m{\u001B[39;00moutput\u001B[38;5;132;01m}\u001B[39;00m\u001B[38;5;124m selected. The only valid choices \u001B[39m\u001B[38;5;124m\"\u001B[39m\n\u001B[1;32m    350\u001B[0m         \u001B[38;5;124m\"\u001B[39m\u001B[38;5;124mare text, latex, latex_source, and mpl\u001B[39m\u001B[38;5;124m\"\u001B[39m\n\u001B[1;32m    351\u001B[0m     )\n",
      "File \u001B[0;32m~/miniconda3/envs/quantum/lib/python3.12/site-packages/qiskit/visualization/circuit/circuit_visualization.py:710\u001B[0m, in \u001B[0;36m_matplotlib_circuit_drawer\u001B[0;34m(circuit, scale, filename, style, plot_barriers, reverse_bits, justify, idle_wires, with_layout, fold, ax, initial_state, cregbundle, wire_order, expr_len)\u001B[0m\n\u001B[1;32m    707\u001B[0m \u001B[38;5;28;01mif\u001B[39;00m fold \u001B[38;5;129;01mis\u001B[39;00m \u001B[38;5;28;01mNone\u001B[39;00m:\n\u001B[1;32m    708\u001B[0m     fold \u001B[38;5;241m=\u001B[39m \u001B[38;5;241m25\u001B[39m\n\u001B[0;32m--> 710\u001B[0m qcd \u001B[38;5;241m=\u001B[39m _matplotlib\u001B[38;5;241m.\u001B[39mMatplotlibDrawer(\n\u001B[1;32m    711\u001B[0m     qubits,\n\u001B[1;32m    712\u001B[0m     clbits,\n\u001B[1;32m    713\u001B[0m     nodes,\n\u001B[1;32m    714\u001B[0m     circuit,\n\u001B[1;32m    715\u001B[0m     scale\u001B[38;5;241m=\u001B[39mscale,\n\u001B[1;32m    716\u001B[0m     style\u001B[38;5;241m=\u001B[39mstyle,\n\u001B[1;32m    717\u001B[0m     reverse_bits\u001B[38;5;241m=\u001B[39mreverse_bits,\n\u001B[1;32m    718\u001B[0m     plot_barriers\u001B[38;5;241m=\u001B[39mplot_barriers,\n\u001B[1;32m    719\u001B[0m     fold\u001B[38;5;241m=\u001B[39mfold,\n\u001B[1;32m    720\u001B[0m     ax\u001B[38;5;241m=\u001B[39max,\n\u001B[1;32m    721\u001B[0m     initial_state\u001B[38;5;241m=\u001B[39minitial_state,\n\u001B[1;32m    722\u001B[0m     cregbundle\u001B[38;5;241m=\u001B[39mcregbundle,\n\u001B[1;32m    723\u001B[0m     with_layout\u001B[38;5;241m=\u001B[39mwith_layout,\n\u001B[1;32m    724\u001B[0m     expr_len\u001B[38;5;241m=\u001B[39mexpr_len,\n\u001B[1;32m    725\u001B[0m )\n\u001B[1;32m    726\u001B[0m \u001B[38;5;28;01mreturn\u001B[39;00m qcd\u001B[38;5;241m.\u001B[39mdraw(filename)\n",
      "File \u001B[0;32m~/miniconda3/envs/quantum/lib/python3.12/site-packages/qiskit/utils/classtools.py:111\u001B[0m, in \u001B[0;36m_WrappedMethod.__get__.<locals>.out\u001B[0;34m(*args, **kwargs)\u001B[0m\n\u001B[1;32m    108\u001B[0m \u001B[38;5;129m@functools\u001B[39m\u001B[38;5;241m.\u001B[39mwraps(method)\n\u001B[1;32m    109\u001B[0m \u001B[38;5;28;01mdef\u001B[39;00m \u001B[38;5;21mout\u001B[39m(\u001B[38;5;241m*\u001B[39margs, \u001B[38;5;241m*\u001B[39m\u001B[38;5;241m*\u001B[39mkwargs):\n\u001B[1;32m    110\u001B[0m     \u001B[38;5;28;01mfor\u001B[39;00m callback \u001B[38;5;129;01min\u001B[39;00m \u001B[38;5;28mself\u001B[39m\u001B[38;5;241m.\u001B[39m_before:\n\u001B[0;32m--> 111\u001B[0m         callback\u001B[38;5;241m.\u001B[39m\u001B[38;5;21m__get__\u001B[39m(obj, objtype)(\u001B[38;5;241m*\u001B[39margs, \u001B[38;5;241m*\u001B[39m\u001B[38;5;241m*\u001B[39mkwargs)\n\u001B[1;32m    112\u001B[0m     retval \u001B[38;5;241m=\u001B[39m method(\u001B[38;5;241m*\u001B[39margs, \u001B[38;5;241m*\u001B[39m\u001B[38;5;241m*\u001B[39mkwargs)\n\u001B[1;32m    113\u001B[0m     \u001B[38;5;28;01mfor\u001B[39;00m callback \u001B[38;5;129;01min\u001B[39;00m \u001B[38;5;28mself\u001B[39m\u001B[38;5;241m.\u001B[39m_after:\n",
      "File \u001B[0;32m~/miniconda3/envs/quantum/lib/python3.12/site-packages/qiskit/utils/lazy_tester.py:41\u001B[0m, in \u001B[0;36m_RequireNow.__call__\u001B[0;34m(self, *_args, **_kwargs)\u001B[0m\n\u001B[1;32m     40\u001B[0m \u001B[38;5;28;01mdef\u001B[39;00m \u001B[38;5;21m__call__\u001B[39m(\u001B[38;5;28mself\u001B[39m, \u001B[38;5;241m*\u001B[39m_args, \u001B[38;5;241m*\u001B[39m\u001B[38;5;241m*\u001B[39m_kwargs):\n\u001B[0;32m---> 41\u001B[0m     \u001B[38;5;28mself\u001B[39m\u001B[38;5;241m.\u001B[39m_tester\u001B[38;5;241m.\u001B[39mrequire_now(\u001B[38;5;28mself\u001B[39m\u001B[38;5;241m.\u001B[39m_feature)\n",
      "File \u001B[0;32m~/miniconda3/envs/quantum/lib/python3.12/site-packages/qiskit/utils/lazy_tester.py:221\u001B[0m, in \u001B[0;36mLazyDependencyManager.require_now\u001B[0;34m(self, feature)\u001B[0m\n\u001B[1;32m    219\u001B[0m \u001B[38;5;28;01mif\u001B[39;00m \u001B[38;5;28mself\u001B[39m:\n\u001B[1;32m    220\u001B[0m     \u001B[38;5;28;01mreturn\u001B[39;00m\n\u001B[0;32m--> 221\u001B[0m \u001B[38;5;28;01mraise\u001B[39;00m MissingOptionalLibraryError(\n\u001B[1;32m    222\u001B[0m     libname\u001B[38;5;241m=\u001B[39m\u001B[38;5;28mself\u001B[39m\u001B[38;5;241m.\u001B[39m_name, name\u001B[38;5;241m=\u001B[39mfeature, pip_install\u001B[38;5;241m=\u001B[39m\u001B[38;5;28mself\u001B[39m\u001B[38;5;241m.\u001B[39m_install, msg\u001B[38;5;241m=\u001B[39m\u001B[38;5;28mself\u001B[39m\u001B[38;5;241m.\u001B[39m_msg\n\u001B[1;32m    223\u001B[0m )\n",
      "\u001B[0;31mMissingOptionalLibraryError\u001B[0m: \"The 'matplotlib' library is required to use 'MatplotlibDrawer'. You can install it with 'pip install matplotlib'.\""
     ]
    }
   ],
   "source": [
    "qc.h(0)\n",
    "qc.cx(0,1)\n",
    "qc.draw(output=\"mpl\")"
   ],
   "metadata": {
    "collapsed": false,
    "ExecuteTime": {
     "end_time": "2024-09-21T09:35:06.830826Z",
     "start_time": "2024-09-21T09:35:06.411222Z"
    }
   },
   "id": "f7c28b2ea9d995e1"
  },
  {
   "cell_type": "code",
   "execution_count": 2,
   "outputs": [],
   "source": [
    "from qiskit.quantum_info import Pauli\n",
    "\n",
    "ZZ = Pauli(\"ZZ\")\n",
    "ZI = Pauli(\"ZI\")\n",
    "IZ = Pauli(\"IZ\")\n",
    "XI = Pauli(\"XI\")\n",
    "XZ = Pauli(\"XZ\")\n",
    "ZX = Pauli(\"ZX\")\n",
    "\n",
    "observables = [ZZ, ZI, IZ, XI, XZ, ZX]\n",
    "\n"
   ],
   "metadata": {
    "collapsed": false,
    "ExecuteTime": {
     "end_time": "2024-09-21T09:39:26.280585Z",
     "start_time": "2024-09-21T09:39:26.262814Z"
    }
   },
   "id": "4df625fa7094d42f"
  },
  {
   "cell_type": "code",
   "execution_count": null,
   "outputs": [],
   "source": [],
   "metadata": {
    "collapsed": false
   },
   "id": "36fec8ebc58aa3aa"
  },
  {
   "cell_type": "markdown",
   "source": [
    "## Step 2: Optimize"
   ],
   "metadata": {
    "collapsed": false
   },
   "id": "4f51cc8ce25a9c39"
  },
  {
   "cell_type": "markdown",
   "source": [
    "## Step 3: Execute on the backend"
   ],
   "metadata": {
    "collapsed": false
   },
   "id": "bfa620f664069f7b"
  },
  {
   "cell_type": "code",
   "execution_count": null,
   "outputs": [],
   "source": [
    "from qiskit_aer.primitives import Estimator"
   ],
   "metadata": {
    "collapsed": false
   },
   "id": "ae9499246a2371f1"
  },
  {
   "cell_type": "code",
   "execution_count": null,
   "outputs": [],
   "source": [
    "estimator = Estimator()\n",
    "\n",
    "\n",
    "# In this case: the estimator requires same no of circuits as observables\n",
    "job.estimator.run([qc] * len(observables),observables) observables)"
   ],
   "metadata": {
    "collapsed": false
   },
   "id": "924879353e8ccfe4"
  },
  {
   "cell_type": "markdown",
   "source": [
    "## Step 4: Post-process (and plotting)"
   ],
   "metadata": {
    "collapsed": false
   },
   "id": "92d65d032ae31bd2"
  },
  {
   "cell_type": "code",
   "execution_count": null,
   "outputs": [],
   "source": [
    "import matplotlib.pyplot as plt\n",
    "\n",
    "data = ['ZZ', 'ZI', 'IZ', 'XX', 'XI', 'IX']\n",
    "\n",
    "values = job.result().values\n",
    "\n",
    "plt.plot(data,values, '-o' )\n",
    "plt.xlabel(\"Observables\")\n",
    "plt.ylabel(\"Expectation values\")\n",
    "plt.show()"
   ],
   "metadata": {
    "collapsed": false
   },
   "id": "cda8a103bcb122eb"
  },
  {
   "cell_type": "markdown",
   "source": [],
   "metadata": {
    "collapsed": false
   },
   "id": "fe7a7ea19d504817"
  }
 ],
 "metadata": {
  "kernelspec": {
   "display_name": "Python 3",
   "language": "python",
   "name": "python3"
  },
  "language_info": {
   "codemirror_mode": {
    "name": "ipython",
    "version": 2
   },
   "file_extension": ".py",
   "mimetype": "text/x-python",
   "name": "python",
   "nbconvert_exporter": "python",
   "pygments_lexer": "ipython2",
   "version": "2.7.6"
  }
 },
 "nbformat": 4,
 "nbformat_minor": 5
}
